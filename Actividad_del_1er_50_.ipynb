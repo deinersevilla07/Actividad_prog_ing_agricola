{
  "nbformat": 4,
  "nbformat_minor": 0,
  "metadata": {
    "colab": {
      "provenance": [],
      "authorship_tag": "ABX9TyPUwOeXOoRpG0PN56ZmUfZS",
      "include_colab_link": true
    },
    "kernelspec": {
      "name": "python3",
      "display_name": "Python 3"
    },
    "language_info": {
      "name": "python"
    }
  },
  "cells": [
    {
      "cell_type": "markdown",
      "metadata": {
        "id": "view-in-github",
        "colab_type": "text"
      },
      "source": [
        "<a href=\"https://colab.research.google.com/github/deinersevilla07/Actividad_prog_ing_agricola/blob/main/Actividad_del_1er_50_.ipynb\" target=\"_parent\"><img src=\"https://colab.research.google.com/assets/colab-badge.svg\" alt=\"Open In Colab\"/></a>"
      ]
    },
    {
      "cell_type": "code",
      "execution_count": null,
      "metadata": {
        "id": "iRZrREVIONtn"
      },
      "outputs": [],
      "source": []
    },
    {
      "cell_type": "markdown",
      "metadata": {
        "id": "ca2c20ec"
      },
      "source": [
        "# Task\n",
        "Genera un programa en Python que funcione como una calculadora de costos de materiales para cimientos, incluyendo una interfaz de usuario en consola con menú, entrada de datos con validación, base de datos de costos, funciones modulares para cálculos (volumen, cantidades de material, costo total) y salida de resultados formateada."
      ]
    },
    {
      "cell_type": "markdown",
      "metadata": {
        "id": "3d6d8d04"
      },
      "source": [
        "## Definir costos y dosificación\n",
        "\n",
        "### Subtask:\n",
        "Crear diccionarios para almacenar los costos unitarios de los materiales y las cantidades de cada material necesarias por metro cúbico de concreto.\n"
      ]
    },
    {
      "cell_type": "markdown",
      "metadata": {
        "id": "1d6007f2"
      },
      "source": [
        "**Reasoning**:\n",
        "The subtask requires creating two dictionaries to store material costs and concrete mix proportions. This can be done directly in a single code block.\n",
        "\n"
      ]
    },
    {
      "cell_type": "code",
      "metadata": {
        "colab": {
          "base_uri": "https://localhost:8080/"
        },
        "id": "5c9c84c1",
        "outputId": "fe3a6133-72a7-4013-d8fd-37c7ef08610e"
      },
      "source": [
        "costos_materiales = {\n",
        "    'cemento': 34500,    # Costo por bulto/kg (ejemplo)\n",
        "    'arena': 110000,     # Costo por metro cúbico/tonelada (ejemplo)\n",
        "    'grava': 130000,     # Costo por metro cúbico/tonelada (ejemplo)\n",
        "    'agua': 2000         # Costo por litro/metro cúbico (ejemplo)\n",
        "}\n",
        "\n",
        "dosificacion_concreto = {\n",
        "    'cemento': 6,    # bulto/kg por metro cúbico (ejemplo para dosificación 210 kg/cm²)\n",
        "    'arena': 0.50,   # metros cúbicos por metro cúbico\n",
        "    'grava': 0.80,   # metros cúbicos por metro cúbico\n",
        "    'agua': 180       # litros por metro cúbico\n",
        "}\n",
        "\n",
        "print(\"Diccionario de costos de materiales:\")\n",
        "print(costos_materiales)\n",
        "print(\"\\nDiccionario de dosificación de concreto por metro cúbico:\")\n",
        "print(dosificacion_concreto)"
      ],
      "execution_count": 11,
      "outputs": [
        {
          "output_type": "stream",
          "name": "stdout",
          "text": [
            "Diccionario de costos de materiales:\n",
            "{'cemento': 34500, 'arena': 110000, 'grava': 130000, 'agua': 2000}\n",
            "\n",
            "Diccionario de dosificación de concreto por metro cúbico:\n",
            "{'cemento': 6, 'arena': 0.5, 'grava': 0.8, 'agua': 180}\n"
          ]
        }
      ]
    },
    {
      "cell_type": "markdown",
      "metadata": {
        "id": "9bbf9630"
      },
      "source": [
        "## Función para calcular volumen\n",
        "\n",
        "### Subtask:\n",
        "Implementar una función que calcule el volumen del cimiento a partir de sus dimensiones (largo, ancho, altura).\n"
      ]
    },
    {
      "cell_type": "markdown",
      "metadata": {
        "id": "dc27b09c"
      },
      "source": [
        "**Reasoning**:\n",
        "Define the Python function to calculate the volume of the foundation.\n",
        "\n"
      ]
    },
    {
      "cell_type": "code",
      "metadata": {
        "id": "4db8f7ad"
      },
      "source": [
        "def calcular_volumen_cimiento(largo, ancho, altura):\n",
        "  \"\"\"Calcula el volumen de un cimiento rectangular.\n",
        "\n",
        "  Args:\n",
        "    largo: El largo del cimiento en metros.\n",
        "    ancho: El ancho del cimiento en metros.\n",
        "    altura: La altura del cimiento en metros.\n",
        "\n",
        "  Returns:\n",
        "    El volumen del cimiento en metros cúbicos.\n",
        "  \"\"\"\n",
        "  volumen = largo * ancho * altura\n",
        "  return volumen"
      ],
      "execution_count": 2,
      "outputs": []
    },
    {
      "cell_type": "markdown",
      "metadata": {
        "id": "df944061"
      },
      "source": [
        "## Función para calcular cantidades de material\n",
        "\n",
        "### Subtask:\n",
        "Implementar una función que, dado el volumen del cimiento, calcule las cantidades necesarias de cada material (cemento, arena, grava, agua) según la dosificación estándar.\n"
      ]
    },
    {
      "cell_type": "markdown",
      "metadata": {
        "id": "26c6ec6c"
      },
      "source": [
        "**Reasoning**:\n",
        "Define the Python function `calcular_cantidades_materiales` as requested in the instructions.\n",
        "\n"
      ]
    },
    {
      "cell_type": "code",
      "metadata": {
        "id": "c2bc6986"
      },
      "source": [
        "def calcular_cantidades_materiales(volumen_cimiento):\n",
        "  \"\"\"Calcula las cantidades necesarias de cada material para un cimiento dado su volumen.\n",
        "\n",
        "  Args:\n",
        "    volumen_cimiento: El volumen del cimiento en metros cúbicos.\n",
        "\n",
        "  Returns:\n",
        "    Un diccionario con las cantidades totales de cada material ('cemento', 'arena', 'grava', 'agua')\n",
        "    necesarias para el volumen dado.\n",
        "  \"\"\"\n",
        "  cantidades_totales = {}\n",
        "  for material, cantidad_por_m3 in dosificacion_concreto.items():\n",
        "    cantidades_totales[material] = cantidad_por_m3 * volumen_cimiento\n",
        "  return cantidades_totales"
      ],
      "execution_count": 3,
      "outputs": []
    },
    {
      "cell_type": "markdown",
      "metadata": {
        "id": "fb2aed73"
      },
      "source": [
        "## Función para calcular costo total\n",
        "\n",
        "### Subtask:\n",
        "Implementar una función que calcule el costo total del proyecto multiplicando las cantidades de material por sus costos unitarios.\n"
      ]
    },
    {
      "cell_type": "markdown",
      "metadata": {
        "id": "f4cfac5f"
      },
      "source": [
        "**Reasoning**:\n",
        "Implement the function to calculate the total cost of materials based on quantities and unit costs.\n",
        "\n"
      ]
    },
    {
      "cell_type": "code",
      "metadata": {
        "id": "dad9745d"
      },
      "source": [
        "def calcular_costo_total(cantidades_materiales, costos_materiales):\n",
        "  \"\"\"Calcula el costo total de los materiales para un proyecto.\n",
        "\n",
        "  Args:\n",
        "    cantidades_materiales: Un diccionario con las cantidades totales de cada material.\n",
        "    costos_materiales: Un diccionario con los costos unitarios de cada material.\n",
        "\n",
        "  Returns:\n",
        "    El costo total del proyecto.\n",
        "  \"\"\"\n",
        "  costo_total = 0\n",
        "  for material, cantidad in cantidades_materiales.items():\n",
        "    if material in costos_materiales:\n",
        "      costo_total += cantidad * costos_materiales[material]\n",
        "    else:\n",
        "        print(f\"Advertencia: Costo unitario para '{material}' no encontrado. Este material no se incluirá en el costo total.\")\n",
        "  return costo_total"
      ],
      "execution_count": 4,
      "outputs": []
    },
    {
      "cell_type": "markdown",
      "metadata": {
        "id": "994620d9"
      },
      "source": [
        "## Implementar interfaz de usuario y manejo de errores\n",
        "\n",
        "### Subtask:\n",
        "Crear un bucle principal en la consola que presente un menú al usuario, solicite las dimensiones del cimiento, llame a las funciones de cálculo, muestre los resultados y maneje posibles errores en la entrada de datos.\n"
      ]
    },
    {
      "cell_type": "markdown",
      "metadata": {
        "id": "9fa0a1ae"
      },
      "source": [
        "**Reasoning**:\n",
        "Start the main loop, display the menu, get user input, and handle the menu options including input validation for dimensions and calling the calculation functions.\n",
        "\n"
      ]
    },
    {
      "cell_type": "code",
      "metadata": {
        "colab": {
          "base_uri": "https://localhost:8080/"
        },
        "id": "cd23a4aa",
        "outputId": "dc022c75-152b-4d46-c5be-e8a89256813b"
      },
      "source": [
        "while True:\n",
        "    print(\"\\n--- Calculadora de Costos de Cimiento ---\")\n",
        "    print(\"1. Calcular costo de cimiento\")\n",
        "    print(\"2. Salir\")\n",
        "\n",
        "    choice = input(\"Ingrese su elección: \")\n",
        "\n",
        "    if choice == '1':\n",
        "        try:\n",
        "            largo = float(input(\"Ingrese el largo del cimiento (en metros): \"))\n",
        "            ancho = float(input(\"Ingrese el ancho del cimiento (en metros): \"))\n",
        "            altura = float(input(\"Ingrese la altura del cimiento (en metros): \"))\n",
        "\n",
        "            volumen = calcular_volumen_cimiento(largo, ancho, altura)\n",
        "            cantidades = calcular_cantidades_materiales(volumen)\n",
        "            costo = calcular_costo_total(cantidades, costos_materiales)\n",
        "\n",
        "            print(\"\\n--- Resultados ---\")\n",
        "            print(f\"Volumen del cimiento: {volumen:.2f} m³\")\n",
        "            print(\"Cantidades de materiales necesarias:\")\n",
        "            for material, cantidad in cantidades.items():\n",
        "                print(f\"- {material.capitalize()}: {cantidad:.2f}\")\n",
        "            print(f\"Costo total estimado: ${costo:.2f}\")\n",
        "\n",
        "        except ValueError:\n",
        "            print(\"Error: Por favor, ingrese valores numéricos para las dimensiones.\")\n",
        "\n",
        "    elif choice == '2':\n",
        "        print(\"Saliendo de la calculadora.\")\n",
        "        break\n",
        "\n",
        "    else:\n",
        "        print(\"Elección no válida. Por favor, intente de nuevo.\")\n"
      ],
      "execution_count": 14,
      "outputs": [
        {
          "output_type": "stream",
          "name": "stdout",
          "text": [
            "\n",
            "--- Calculadora de Costos de Cimiento ---\n",
            "1. Calcular costo de cimiento\n",
            "2. Salir\n",
            "Ingrese su elección: 2\n",
            "Saliendo de la calculadora.\n"
          ]
        }
      ]
    },
    {
      "cell_type": "markdown",
      "metadata": {
        "id": "23e12f44"
      },
      "source": [
        "## Codigo Completo\n",
        "\n",
        "Ahora que hemos implementado todas las partes de la calculadora, aquí está el código completo y una explicación de cómo usarlo."
      ]
    },
    {
      "cell_type": "code",
      "metadata": {
        "colab": {
          "base_uri": "https://localhost:8080/"
        },
        "id": "2e7e28a0",
        "outputId": "146f9b19-2961-4732-d21b-5da376259fb0"
      },
      "source": [
        "# Definir costos y dosificación\n",
        "costos_materiales = {\n",
        "    'cemento': 34500,  # Costo por bulto/kg (ejemplo)\n",
        "    'arena': 130000,     # Costo por metro cúbico/tonelada (ejemplo)\n",
        "    'grava': 53500,     # Costo por metro cúbico/tonelada (ejemplo)\n",
        "    'agua': 2000       # Costo por litro/metro cúbico (ejemplo)\n",
        "}\n",
        "\n",
        "dosificacion_concreto = {\n",
        "    'cemento': 350,  # kg por metro cúbico (ejemplo para dosificación 210 kg/cm²)\n",
        "    'arena': 0.5,    # metros cúbicos por metro cúbico\n",
        "    'grava': 0.8,    # metros cúbicos por metro cúbico\n",
        "    'agua': 180      # litros por metro cúbico\n",
        "}\n",
        "\n",
        "# Función para calcular volumen\n",
        "def calcular_volumen_cimiento(largo, ancho, altura):\n",
        "  \"\"\"Calcula el volumen de un cimiento rectangular.\n",
        "\n",
        "  Args:\n",
        "    largo: El largo del cimiento en metros.\n",
        "    ancho: El ancho del cimiento en metros.\n",
        "    altura: La altura del cimiento en metros.\n",
        "\n",
        "  Returns:\n",
        "    El volumen del cimiento en metros cúbicos.\n",
        "  \"\"\"\n",
        "  volumen = largo * ancho * altura\n",
        "  return volumen\n",
        "\n",
        "# Función para calcular cantidades de material\n",
        "def calcular_cantidades_materiales(volumen_cimiento):\n",
        "  \"\"\"Calcula las cantidades necesarias de cada material para un cimiento dado su volumen.\n",
        "\n",
        "  Args:\n",
        "    volumen_cimiento: El volumen del cimiento en metros cúbicos.\n",
        "\n",
        "  Returns:\n",
        "    Un diccionario con las cantidades totales de cada material ('cemento', 'arena', 'grava', 'agua')\n",
        "    necesarias para el volumen dado.\n",
        "  \"\"\"\n",
        "  cantidades_totales = {}\n",
        "  for material, cantidad_por_m3 in dosificacion_concreto.items():\n",
        "    cantidades_totales[material] = cantidad_por_m3 * volumen_cimiento\n",
        "  return cantidades_totales\n",
        "\n",
        "# Función para calcular costo total\n",
        "def calcular_costo_total(cantidades_materiales, costos_materiales):\n",
        "  \"\"\"Calcula el costo total de los materiales para un proyecto.\n",
        "\n",
        "  Args:\n",
        "    cantidades_materiales: Un diccionario con las cantidades totales de cada material.\n",
        "    costos_materiales: Un diccionario con los costos unitarios de cada material.\n",
        "\n",
        "  Returns:\n",
        "    El costo total del proyecto.\n",
        "  \"\"\"\n",
        "  costo_total = 0\n",
        "  for material, cantidad in cantidades_materiales.items():\n",
        "    if material in costos_materiales:\n",
        "      costo_total += cantidad * costos_materiales[material]\n",
        "    else:\n",
        "        print(f\"Advertencia: Costo unitario para '{material}' no encontrado. Este material no se incluirá en el costo total.\")\n",
        "  return costo_total\n",
        "\n",
        "# Implementar interfaz de usuario y manejo de errores\n",
        "while True:\n",
        "    print(\"\\n--- Calculadora de Costos de Cimiento ---\")\n",
        "    print(\"1. Calcular costo de cimiento\")\n",
        "    print(\"2. Salir\")\n",
        "\n",
        "    choice = input(\"Ingrese su elección: \")\n",
        "\n",
        "    if choice == '1':\n",
        "        try:\n",
        "            largo = float(input(\"Ingrese el largo del cimiento (en metros): \"))\n",
        "            ancho = float(input(\"Ingrese el ancho del cimiento (en metros): \"))\n",
        "            altura = float(input(\"Ingrese la altura del cimiento (en metros): \"))\n",
        "\n",
        "            volumen = calcular_volumen_cimiento(largo, ancho, altura)\n",
        "            cantidades = calcular_cantidades_materiales(volumen)\n",
        "            costo = calcular_costo_total(cantidades, costos_materiales)\n",
        "\n",
        "            print(\"\\n--- Resultados ---\")\n",
        "            print(f\"Volumen del cimiento: {volumen:.2f} m³\")\n",
        "            print(\"Cantidades de materiales necesarias:\")\n",
        "            for material, cantidad in cantidades.items():\n",
        "                print(f\"- {material.capitalize()}: {cantidad:.2f}\")\n",
        "            print(f\"Costo total estimado: ${costo:.2f}\")\n",
        "\n",
        "        except ValueError:\n",
        "            print(\"Error: Por favor, ingrese valores numéricos para las dimensiones.\")\n",
        "\n",
        "    elif choice == '2':\n",
        "        print(\"Saliendo de la calculadora.\")\n",
        "        break\n",
        "\n",
        "    else:\n",
        "        print(\"Elección no válida. Por favor, intente de nuevo.\")"
      ],
      "execution_count": 10,
      "outputs": [
        {
          "output_type": "stream",
          "name": "stdout",
          "text": [
            "\n",
            "--- Calculadora de Costos de Cimiento ---\n",
            "1. Calcular costo de cimiento\n",
            "2. Salir\n",
            "Ingrese su elección: 1\n",
            "Ingrese el largo del cimiento (en metros): 10\n",
            "Ingrese el ancho del cimiento (en metros): 8\n",
            "Ingrese la altura del cimiento (en metros): 0.4\n",
            "\n",
            "--- Resultados ---\n",
            "Volumen del cimiento: 32.00 m³\n",
            "Cantidades de materiales necesarias:\n",
            "- Cemento: 11200.00\n",
            "- Arena: 16.00\n",
            "- Grava: 25.60\n",
            "- Agua: 5760.00\n",
            "Costo total estimado: $401369600.00\n",
            "\n",
            "--- Calculadora de Costos de Cimiento ---\n",
            "1. Calcular costo de cimiento\n",
            "2. Salir\n",
            "Ingrese su elección: 2\n",
            "Saliendo de la calculadora.\n"
          ]
        }
      ]
    },
    {
      "cell_type": "markdown",
      "metadata": {
        "id": "ba2acf6f"
      },
      "source": [
        "## **Cómo usar el programa:**\n",
        "\n",
        "1.  Ejecuta la celda de código que contiene el programa completo.\n",
        "2.  Aparecerá un menú en la consola.\n",
        "3.  Selecciona la opción \"1\" para calcular el costo de un cimiento.\n",
        "4.  Ingresa las dimensiones del cimiento (largo, ancho y altura) cuando se te solicite. Asegúrate de ingresar valores numéricos.\n",
        "5.  El programa calculará y mostrará el volumen del cimiento, las cantidades de materiales necesarias y el costo total estimado.\n",
        "6.  Puedes repetir el proceso para calcular el costo de otros cimientos o seleccionar la opción \"2\" para salir del programa.\n",
        "\n",
        "**Notas:**\n",
        "\n",
        "*   Puedes modificar los costos de los materiales en el diccionario `costos_materiales` y la dosificación en el diccionario `dosificacion_concreto` según tus necesidades.\n",
        "*   El programa incluye manejo de errores para asegurar que las dimensiones ingresadas sean numéricas.\n",
        "\n",
        "¡Espero que esta calculadora te sea útil! Si tienes alguna otra pregunta, no dudes en consultarme."
      ]
    },
    {
      "cell_type": "markdown",
      "metadata": {
        "id": "7d703254"
      },
      "source": [
        "## Explicación del Programa: Calculadora de Costos de Materiales para Cimientos\n",
        "\n",
        "Este programa en Python funciona como una calculadora interactiva de costos de materiales para cimientos de concreto. Está diseñado para ser fácil de usar y modular, dividiendo las tareas en funciones específicas.\n",
        "\n",
        "**Funcionamiento General:**\n",
        "\n",
        "El programa principal se ejecuta en un bucle continuo en la consola, presentando un menú al usuario con dos opciones: \"Calcular costo de cimiento\" y \"Salir\". El usuario interactúa ingresando el número correspondiente a la opción deseada.\n",
        "\n",
        "**Componentes Clave:**\n",
        "\n",
        "1.  **Diccionarios de Datos (`costos_materiales` y `dosificacion_concreto`):**\n",
        "    *   `costos_materiales`: Almacena los costos unitarios de los diferentes materiales necesarios para el concreto (cemento, arena, grava, agua). Estos valores son ejemplos y pueden ser modificados por el usuario según los precios actuales de los materiales.\n",
        "    *   `dosificacion_concreto`: Define la proporción de cada material necesaria para producir un metro cúbico de concreto. También son valores de ejemplo basados en una dosificación estándar (en este caso, para una resistencia de 210 kg/cm²). Estos valores también pueden ser ajustados.\n",
        "\n",
        "2.  **Función `calcular_volumen_cimiento(largo, ancho, altura)`:**\n",
        "    *   Esta función toma como entrada las dimensiones del cimiento (largo, ancho y altura en metros).\n",
        "    *   Realiza el cálculo simple del volumen multiplicando las tres dimensiones.\n",
        "    *   Retorna el volumen del cimiento en metros cúbicos.\n",
        "\n",
        "3.  **Función `calcular_cantidades_materiales(volumen_cimiento)`:**\n",
        "    *   Recibe el volumen del cimiento calculado previamente.\n",
        "    *   Utiliza el diccionario `dosificacion_concreto` para determinar cuánta cantidad de cada material se necesita por cada metro cúbico de concreto.\n",
        "    *   Multiplica la cantidad por metro cúbico de cada material por el volumen total del cimiento para obtener las cantidades totales necesarias de cada material.\n",
        "    *   Retorna un diccionario con las cantidades totales de cada material.\n",
        "\n",
        "4.  **Función `calcular_costo_total(cantidades_materiales, costos_materiales)`:**\n",
        "    *   Toma como entrada el diccionario de cantidades totales de materiales y el diccionario de costos unitarios.\n",
        "    *   Itera sobre cada material en el diccionario de cantidades.\n",
        "    *   Para cada material, busca su costo unitario correspondiente en el diccionario `costos_materiales`.\n",
        "    *   Si encuentra el costo, multiplica la cantidad del material por su costo unitario y lo suma al costo total.\n",
        "    *   Si un material en `cantidades_materiales` no se encuentra en `costos_materiales`, imprime una advertencia indicando que ese material no se incluirá en el cálculo total.\n",
        "    *   Retorna el costo total estimado del proyecto.\n",
        "\n",
        "5.  **Bucle Principal y Interfaz de Usuario:**\n",
        "    *   El bucle `while True` mantiene el programa en ejecución hasta que el usuario decide salir.\n",
        "    *   Dentro del bucle, se muestra el menú de opciones.\n",
        "    *   Se solicita al usuario que ingrese su elección.\n",
        "    *   **Opción 1 (\"Calcular costo de cimiento\"):**\n",
        "        *   Solicita al usuario las dimensiones del cimiento (largo, ancho, altura).\n",
        "        *   Utiliza un bloque `try-except` para validar que las entradas sean numéricas. Si no lo son, muestra un mensaje de error.\n",
        "        *   Si las entradas son válidas, llama a las funciones `calcular_volumen_cimiento`, `calcular_cantidades_materiales` y `calcular_costo_total` en secuencia.\n",
        "        *   Imprime los resultados de manera formateada: volumen, cantidades de cada material y costo total estimado.\n",
        "    *   **Opción 2 (\"Salir\"):**\n",
        "        *   Imprime un mensaje de despedida y utiliza `break` para salir del bucle principal, terminando el programa.\n",
        "    *   **Elección no válida:** Si el usuario ingresa una opción diferente a \"1\" o \"2\", muestra un mensaje indicando que la elección no es válida.\n",
        "\n",
        "**Manejo de Errores:**\n",
        "\n",
        "El programa utiliza un bloque `try-except ValueError` al solicitar las dimensiones del cimiento. Esto asegura que si el usuario ingresa texto u otro valor no numérico, el programa no falle y en su lugar muestre un mensaje de error amigable, permitiendo al usuario intentar de nuevo.\n",
        "\n",
        "En resumen, este programa es una herramienta sencilla pero efectiva para estimar los costos de los materiales de un cimiento, ofreciendo modularidad, validación de entrada y una interfaz de usuario básica en la consola."
      ]
    }
  ]
}